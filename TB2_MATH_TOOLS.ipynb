{
  "nbformat": 4,
  "nbformat_minor": 0,
  "metadata": {
    "colab": {
      "name": "TB2 MATH TOOLS.ipynb",
      "provenance": [],
      "collapsed_sections": [],
      "authorship_tag": "ABX9TyNwETZWk6hTRVAr1EOe4v92",
      "include_colab_link": true
    },
    "kernelspec": {
      "name": "python3",
      "display_name": "Python 3"
    },
    "language_info": {
      "name": "python"
    }
  },
  "cells": [
    {
      "cell_type": "markdown",
      "metadata": {
        "id": "view-in-github",
        "colab_type": "text"
      },
      "source": [
        "<a href=\"https://colab.research.google.com/github/rahmatrians/scratching-naive-bayes/blob/main/TB2_MATH_TOOLS.ipynb\" target=\"_parent\"><img src=\"https://colab.research.google.com/assets/colab-badge.svg\" alt=\"Open In Colab\"/></a>"
      ]
    },
    {
      "cell_type": "markdown",
      "metadata": {
        "id": "xITWePpDfL5v"
      },
      "source": [
        "\n",
        "Kelompok 6 (Naive Bayes) :\n",
        "- Rahmat Riansyah (41519010010)\n",
        "- Ari Satria Wiratama  (41519010122)\n",
        "- Abimanyu dwi satrio (41519010135)\n",
        "- Dan Eliezer Ryan Andani (41519010120)\n",
        "- Timotius Alvin (41519010003)"
      ]
    },
    {
      "cell_type": "code",
      "metadata": {
        "colab": {
          "base_uri": "https://localhost:8080/",
          "height": 357
        },
        "id": "3xIDcpnVhoBx",
        "outputId": "05ccbbf0-a3b3-4de3-b369-4fdfb9dfb7b1"
      },
      "source": [
        "import pandas as pd\n",
        "import numpy as np\n",
        "import seaborn as sns\n",
        "import matplotlib.pyplot as plt\n",
        "\n",
        "#memasukan data latih\n",
        "datalatih = pd.read_excel(\"data_test.xlsx\") #emmanggil file data\n",
        "datalatih.head() #menampilkan data dari baris teratas"
      ],
      "execution_count": 332,
      "outputs": [
        {
          "output_type": "execute_result",
          "data": {
            "text/html": [
              "<div>\n",
              "<style scoped>\n",
              "    .dataframe tbody tr th:only-of-type {\n",
              "        vertical-align: middle;\n",
              "    }\n",
              "\n",
              "    .dataframe tbody tr th {\n",
              "        vertical-align: top;\n",
              "    }\n",
              "\n",
              "    .dataframe thead th {\n",
              "        text-align: right;\n",
              "    }\n",
              "</style>\n",
              "<table border=\"1\" class=\"dataframe\">\n",
              "  <thead>\n",
              "    <tr style=\"text-align: right;\">\n",
              "      <th></th>\n",
              "      <th>Warna</th>\n",
              "      <th>Tipe</th>\n",
              "      <th>Asal</th>\n",
              "      <th>Tercuri</th>\n",
              "    </tr>\n",
              "  </thead>\n",
              "  <tbody>\n",
              "    <tr>\n",
              "      <th>0</th>\n",
              "      <td>merah</td>\n",
              "      <td>Sport</td>\n",
              "      <td>Domestik</td>\n",
              "      <td>ya</td>\n",
              "    </tr>\n",
              "    <tr>\n",
              "      <th>1</th>\n",
              "      <td>merah</td>\n",
              "      <td>Sport</td>\n",
              "      <td>Domestik</td>\n",
              "      <td>tidak</td>\n",
              "    </tr>\n",
              "    <tr>\n",
              "      <th>2</th>\n",
              "      <td>merah</td>\n",
              "      <td>Sport</td>\n",
              "      <td>Domestik</td>\n",
              "      <td>ya</td>\n",
              "    </tr>\n",
              "    <tr>\n",
              "      <th>3</th>\n",
              "      <td>kuning</td>\n",
              "      <td>Sport</td>\n",
              "      <td>Domestik</td>\n",
              "      <td>tidak</td>\n",
              "    </tr>\n",
              "    <tr>\n",
              "      <th>4</th>\n",
              "      <td>kuning</td>\n",
              "      <td>Sport</td>\n",
              "      <td>Import</td>\n",
              "      <td>ya</td>\n",
              "    </tr>\n",
              "    <tr>\n",
              "      <th>5</th>\n",
              "      <td>kuning</td>\n",
              "      <td>Suv</td>\n",
              "      <td>Import</td>\n",
              "      <td>tidak</td>\n",
              "    </tr>\n",
              "    <tr>\n",
              "      <th>6</th>\n",
              "      <td>kuning</td>\n",
              "      <td>Suv</td>\n",
              "      <td>Import</td>\n",
              "      <td>ya</td>\n",
              "    </tr>\n",
              "    <tr>\n",
              "      <th>7</th>\n",
              "      <td>kuning</td>\n",
              "      <td>Suv</td>\n",
              "      <td>Domestik</td>\n",
              "      <td>tidak</td>\n",
              "    </tr>\n",
              "    <tr>\n",
              "      <th>8</th>\n",
              "      <td>merah</td>\n",
              "      <td>Suv</td>\n",
              "      <td>Import</td>\n",
              "      <td>tidak</td>\n",
              "    </tr>\n",
              "    <tr>\n",
              "      <th>9</th>\n",
              "      <td>merah</td>\n",
              "      <td>Sport</td>\n",
              "      <td>Import</td>\n",
              "      <td>ya</td>\n",
              "    </tr>\n",
              "  </tbody>\n",
              "</table>\n",
              "</div>"
            ],
            "text/plain": [
              "    Warna   Tipe      Asal Tercuri\n",
              "0   merah  Sport  Domestik      ya\n",
              "1   merah  Sport  Domestik   tidak\n",
              "2   merah  Sport  Domestik      ya\n",
              "3  kuning  Sport  Domestik   tidak\n",
              "4  kuning  Sport    Import      ya\n",
              "5  kuning    Suv    Import   tidak\n",
              "6  kuning    Suv    Import      ya\n",
              "7  kuning    Suv  Domestik   tidak\n",
              "8   merah    Suv    Import   tidak\n",
              "9   merah  Sport    Import      ya"
            ]
          },
          "metadata": {
            "tags": []
          },
          "execution_count": 332
        }
      ]
    },
    {
      "cell_type": "code",
      "metadata": {
        "id": "iiKg_wfriGaO"
      },
      "source": [
        "#function untuk menyederhanakan data pada column\n",
        "def cutting(data):\n",
        "    seen = set()\n",
        "    seen_add = seen.add\n",
        "    return [x for x in data if not (x in seen or seen_add(x))]"
      ],
      "execution_count": 5,
      "outputs": []
    },
    {
      "cell_type": "code",
      "metadata": {
        "colab": {
          "base_uri": "https://localhost:8080/"
        },
        "id": "TFaYPYfDjiEE",
        "outputId": "5f71faf1-c9dd-47ed-d005-32724d9ea1c9"
      },
      "source": [
        "# 1\n",
        "tercuriCount =  datalatih.groupby(datalatih.columns[-1])[datalatih.columns[-1]].count()\n",
        "print(tercuriCount)"
      ],
      "execution_count": 341,
      "outputs": [
        {
          "output_type": "stream",
          "text": [
            "Tercuri\n",
            "tidak    5\n",
            "ya       5\n",
            "Name: Tercuri, dtype: int64\n"
          ],
          "name": "stdout"
        }
      ]
    },
    {
      "cell_type": "code",
      "metadata": {
        "colab": {
          "base_uri": "https://localhost:8080/",
          "height": 302
        },
        "id": "XIrL7RIDegNS",
        "outputId": "b8129d41-8feb-4676-f2ef-60a473f59ded"
      },
      "source": [
        "sns.countplot(x=\"Tercuri\",data=datalatih)"
      ],
      "execution_count": 337,
      "outputs": [
        {
          "output_type": "execute_result",
          "data": {
            "text/plain": [
              "<matplotlib.axes._subplots.AxesSubplot at 0x7f742f0e7cd0>"
            ]
          },
          "metadata": {
            "tags": []
          },
          "execution_count": 337
        },
        {
          "output_type": "display_data",
          "data": {
            "image/png": "[encoded data removed]",
            "text/plain": [
              "<Figure size 432x288 with 1 Axes>"
            ]
          },
          "metadata": {
            "tags": []
          }
        }
      ]
    },
    {
      "cell_type": "code",
      "metadata": {
        "id": "Qhn9SSmmio4b",
        "colab": {
          "base_uri": "https://localhost:8080/"
        },
        "outputId": "576edc75-2e12-46b5-81cf-96f53b5c5315"
      },
      "source": [
        "tercuri = cutting(datalatih['Tercuri']) #menyederhanakan data pada column terakhir\n",
        "tercuri"
      ],
      "execution_count": 344,
      "outputs": [
        {
          "output_type": "execute_result",
          "data": {
            "text/plain": [
              "['ya', 'tidak']"
            ]
          },
          "metadata": {
            "tags": []
          },
          "execution_count": 344
        }
      ]
    },
    {
      "cell_type": "code",
      "metadata": {
        "id": "Ja3JwqXjjNwm",
        "colab": {
          "base_uri": "https://localhost:8080/",
          "height": 110
        },
        "outputId": "1bfeced4-5caa-4adb-b248-109e584913c2"
      },
      "source": [
        "lastColumn = datalatih.iloc[ :, -1:] #mengambil column terakhir untuk menentukan probabilitas\n",
        "\n",
        "p1 = tercuriCount[0]/lastColumn.count() #menghitung probabilitas ke 1 yaitu n/jumlah\n",
        "p2 = tercuriCount[1]/lastColumn.count() #menghitung probabilitas ke 2 yaitu n/jumlah\n",
        "\n",
        "tercuriDf = pd.DataFrame({'name': tercuri, 'value': [p1,p2]}) #memasukkan hasil penghitungan ke dataframe\n",
        "tercuriDf"
      ],
      "execution_count": 346,
      "outputs": [
        {
          "output_type": "execute_result",
          "data": {
            "text/html": [
              "<div>\n",
              "<style scoped>\n",
              "    .dataframe tbody tr th:only-of-type {\n",
              "        vertical-align: middle;\n",
              "    }\n",
              "\n",
              "    .dataframe tbody tr th {\n",
              "        vertical-align: top;\n",
              "    }\n",
              "\n",
              "    .dataframe thead th {\n",
              "        text-align: right;\n",
              "    }\n",
              "</style>\n",
              "<table border=\"1\" class=\"dataframe\">\n",
              "  <thead>\n",
              "    <tr style=\"text-align: right;\">\n",
              "      <th></th>\n",
              "      <th>name</th>\n",
              "      <th>value</th>\n",
              "    </tr>\n",
              "  </thead>\n",
              "  <tbody>\n",
              "    <tr>\n",
              "      <th>0</th>\n",
              "      <td>ya</td>\n",
              "      <td>Tercuri    0.5\n",
              "dtype: float64</td>\n",
              "    </tr>\n",
              "    <tr>\n",
              "      <th>1</th>\n",
              "      <td>tidak</td>\n",
              "      <td>Tercuri    0.5\n",
              "dtype: float64</td>\n",
              "    </tr>\n",
              "  </tbody>\n",
              "</table>\n",
              "</div>"
            ],
            "text/plain": [
              "    name                          value\n",
              "0     ya  Tercuri    0.5\n",
              "dtype: float64\n",
              "1  tidak  Tercuri    0.5\n",
              "dtype: float64"
            ]
          },
          "metadata": {
            "tags": []
          },
          "execution_count": 346
        }
      ]
    },
    {
      "cell_type": "code",
      "metadata": {
        "id": "FVb4k9gKpy0t"
      },
      "source": [
        "# warnaCount = datalatih.groupby(datalatih.columns[1])[datalatih.columns[1]].count()\n",
        "# print(len))"
      ],
      "execution_count": 348,
      "outputs": []
    },
    {
      "cell_type": "code",
      "metadata": {
        "id": "6gotAN-ntiQH",
        "colab": {
          "base_uri": "https://localhost:8080/"
        },
        "outputId": "3a58d530-651b-48de-9504-38053782ccfe"
      },
      "source": [
        "\n",
        "columnsData = []\n",
        "\n",
        "for x in range(len(datalatih.columns)-1) :\n",
        "  v = cutting(datalatih.iloc[:, x])\n",
        "  tempData = []\n",
        "  get = datalatih.groupby(datalatih.columns[x])[datalatih.columns[x]].count()\n",
        " \n",
        "  for z in range(len(get)) :\n",
        "    tempData.append(get.iloc[z])\n",
        " \n",
        "  columnsData.append(tempData)\n",
        "  \n",
        "print(columnsData)"
      ],
      "execution_count": 115,
      "outputs": [
        {
          "output_type": "stream",
          "text": [
            "[[5, 5], [6, 4], [5, 5]]\n"
          ],
          "name": "stdout"
        }
      ]
    },
    {
      "cell_type": "code",
      "metadata": {
        "colab": {
          "base_uri": "https://localhost:8080/"
        },
        "id": "j6RhiHi9moe2",
        "outputId": "9b76f771-90f3-4730-e2f8-c52bc4093616"
      },
      "source": [
        "# 2\n",
        "# warnaCount = datalatih.groupby('Warna')['Warna'].count()\n",
        "# print(warnaCount)\n",
        "# print(\"\\n\")\n",
        "\n",
        "# tipeCount =  datalatih.groupby('Tipe')['Tipe'].count()\n",
        "# print(tipeCount)\n",
        "\n",
        "# print(\"\\n\")\n",
        "\n",
        "# asalCount =  datalatih.groupby('Asal')['Asal'].count()\n",
        "# print(asalCount)"
      ],
      "execution_count": 104,
      "outputs": [
        {
          "output_type": "stream",
          "text": [
            "Warna\n",
            "kuning    5\n",
            "merah     5\n",
            "Name: Warna, dtype: int64\n",
            "\n",
            "\n",
            "Tipe\n",
            "Sport    6\n",
            "Suv      4\n",
            "Name: Tipe, dtype: int64\n",
            "\n",
            "\n",
            "Asal\n",
            "Domestik    5\n",
            "Import      5\n",
            "Name: Asal, dtype: int64\n"
          ],
          "name": "stdout"
        }
      ]
    },
    {
      "cell_type": "code",
      "metadata": {
        "colab": {
          "base_uri": "https://localhost:8080/"
        },
        "id": "vVMvvn0Q4ubX",
        "outputId": "b1221fa7-3f06-4228-f261-b2eac37732ae"
      },
      "source": [
        "def testQuestion(data) :\n",
        "  lastCol = cutting(datalatih.iloc[ :, -1])\n",
        "  totalColumn = len(datalatih.columns)-1\n",
        "\n",
        "  prob1 = []\n",
        "  prob2 = []\n",
        "\n",
        "  result1 = []\n",
        "  result2 = []\n",
        "  \n",
        "  print(\"-- probability 1 untuk kemungkinan \" + lastCol[0] + \"--\")\n",
        "  for x in range(len(data)) :\n",
        "    newData = len(datalatih[(datalatih.iloc[ :, x] == data[x]) & (datalatih.iloc[ :, -1] == lastCol[0])])\n",
        "    prob1.append(newData)\n",
        "    print(\"result dari \" + data[x] + \" adalah \" + str(newData))\n",
        "\n",
        "  \n",
        "  for u in range(len(data)) :\n",
        "    result1.append(prob1[u] / tercuriCount[0])\n",
        "  \n",
        "  result1 = tercuriDf['value'][0] * np.prod(result1)\n",
        "  result1 = \"{:.0%}\".format(float(result1))\n",
        "  print(\"kemungkinan  probability '\" + lastCol[0] + \"' adalah \" + str(result1))\n",
        "\n",
        "    \n",
        "\n",
        "  \n",
        "  print('\\n\\n')\n",
        "\n",
        "  print(\"-- probability 2 untuk kemungkinan \" + lastCol[1] + \"--\")\n",
        "  for x in range(len(data)) :\n",
        "    newData = len(datalatih[(datalatih.iloc[ :, x] == data[x]) & (datalatih.iloc[ :, -1] == lastCol[1])])\n",
        "    prob2.append(newData)\n",
        "    print(\"result dari \" + data[x] + \" adalah \" + str(newData))\n",
        "\n",
        "  for u in range(len(data)) :\n",
        "    result2.append(prob2[u] / tercuriCount[1])\n",
        "  \n",
        "  result2 = tercuriDf['value'][0] * np.prod(result2)\n",
        "  result2 = \"{:.0%}\".format(float(result2))\n",
        "  print(\"kemungkinan  probability '\" + lastCol[1] + \"' adalah \" + str(result2))\n",
        "\n",
        "  return final(result1, result2)\n",
        "\n",
        "\n",
        "dataN = ['merah', 'Suv', 'Domestik']\n",
        "testQuestion(dataN)"
      ],
      "execution_count": 327,
      "outputs": [
        {
          "output_type": "stream",
          "text": [
            "-- probability 1 untuk kemungkinan ya--\n",
            "result dari merah adalah 3\n",
            "result dari Suv adalah 1\n",
            "result dari Domestik adalah 2\n",
            "kemungkinan  probability 'ya' adalah 2%\n",
            "\n",
            "\n",
            "\n",
            "-- probability 2 untuk kemungkinan tidak--\n",
            "result dari merah adalah 2\n",
            "result dari Suv adalah 3\n",
            "result dari Domestik adalah 3\n",
            "kemungkinan  probability 'tidak' adalah 7%\n"
          ],
          "name": "stdout"
        }
      ]
    },
    {
      "cell_type": "code",
      "metadata": {
        "id": "LP-gfwmavayV",
        "colab": {
          "base_uri": "https://localhost:8080/"
        },
        "outputId": "59befc67-4f46-4b98-94e5-4215d39f646f"
      },
      "source": [
        "\n",
        "# merah = len(datalatih[(datalatih['Warna'] == 'merah') & (datalatih['Tercuri'] == 'ya')])\n",
        "# print(merah)\n",
        "\n",
        "# print(\"\\n\")\n",
        "\n",
        "# suv = len(datalatih[(datalatih['Tipe'] == 'Suv') & (datalatih['Tercuri'] == 'ya')])\n",
        "# print(suv)\n",
        "\n",
        "# print(\"\\n\")\n",
        "\n",
        "# domestik = len(datalatih[(datalatih['Asal'] == 'Domestik') & (datalatih['Tercuri'] == 'ya')])\n",
        "\n",
        "# print(domestik)"
      ],
      "execution_count": 226,
      "outputs": [
        {
          "output_type": "stream",
          "text": [
            "3\n",
            "\n",
            "\n",
            "1\n",
            "\n",
            "\n",
            "2\n"
          ],
          "name": "stdout"
        }
      ]
    },
    {
      "cell_type": "code",
      "metadata": {
        "id": "wqS077rm0AQp",
        "colab": {
          "base_uri": "https://localhost:8080/"
        },
        "outputId": "84bb1a27-2664-40c3-c9ed-52bbf8461317"
      },
      "source": [
        "# ya1 = merah/tercuriCount[1]\n",
        "# ya2 = suv/tercuriCount[1]\n",
        "# ya3 = domestik/tercuriCount[1]\n",
        "\n",
        "# resultYa = tercuriDf['value'][0] * ya1 * ya2 * ya3\n",
        "# print(resultYa)\n"
      ],
      "execution_count": 318,
      "outputs": [
        {
          "output_type": "stream",
          "text": [
            "Tercuri    0.024\n",
            "dtype: float64\n"
          ],
          "name": "stdout"
        }
      ]
    },
    {
      "cell_type": "code",
      "metadata": {
        "id": "ALRs5U4924_o",
        "colab": {
          "base_uri": "https://localhost:8080/"
        },
        "outputId": "2affa9bc-95ae-42f2-df4d-7e03ee9adc19"
      },
      "source": [
        "# merah = len(datalatih[(datalatih['Warna'] == 'merah') & (datalatih['Tercuri'] == 'tidak')])\n",
        "# print(merah)\n",
        "\n",
        "# print(\"\\n\")\n",
        "\n",
        "# suv = len(datalatih[(datalatih['Tipe'] == 'Suv') & (datalatih['Tercuri'] == 'tidak')])\n",
        "# print(suv)\n",
        "\n",
        "# print(\"\\n\")\n",
        "\n",
        "# domestik = len(datalatih[(datalatih['Asal'] == 'Domestik') & (datalatih['Tercuri'] == 'tidak')])\n",
        "\n",
        "# print(domestik)"
      ],
      "execution_count": 17,
      "outputs": [
        {
          "output_type": "stream",
          "text": [
            "2\n",
            "\n",
            "\n",
            "3\n",
            "\n",
            "\n",
            "3\n"
          ],
          "name": "stdout"
        }
      ]
    },
    {
      "cell_type": "code",
      "metadata": {
        "id": "vra4YX9I3Hg5",
        "colab": {
          "base_uri": "https://localhost:8080/"
        },
        "outputId": "c106e183-9db3-413f-84a5-9e29bb500e7b"
      },
      "source": [
        "# no1 = merah/tercuriCount[1]\n",
        "# no2 = suv/tercuriCount[1]\n",
        "# no3 = domestik/tercuriCount[1]\n",
        "\n",
        "# resultNo = tercuriDf['value'][1] * no1 * no2 * no3\n",
        "# print(resultNo)"
      ],
      "execution_count": 18,
      "outputs": [
        {
          "output_type": "stream",
          "text": [
            "Tercuri    0.072\n",
            "dtype: float64\n"
          ],
          "name": "stdout"
        }
      ]
    }
  ]
}