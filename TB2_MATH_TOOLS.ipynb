{
  "nbformat": 4,
  "nbformat_minor": 0,
  "metadata": {
    "colab": {
      "name": "TB2 MATH TOOLS.ipynb",
      "provenance": [],
      "collapsed_sections": [],
      "authorship_tag": "ABX9TyO5SjE0CSNJs5IE/t5gFuTa",
      "include_colab_link": true
    },
    "kernelspec": {
      "name": "python3",
      "display_name": "Python 3"
    },
    "language_info": {
      "name": "python"
    }
  },
  "cells": [
    {
      "cell_type": "markdown",
      "metadata": {
        "id": "view-in-github",
        "colab_type": "text"
      },
      "source": [
        "<a href=\"https://colab.research.google.com/github/rahmatrians/scratching-naive-bayes/blob/main/TB2_MATH_TOOLS.ipynb\" target=\"_parent\"><img src=\"https://colab.research.google.com/assets/colab-badge.svg\" alt=\"Open In Colab\"/></a>"
      ]
    },
    {
      "cell_type": "markdown",
      "metadata": {
        "id": "xITWePpDfL5v"
      },
      "source": [
        "\n",
        "Kelompok 6 (Naive Bayes) :\n",
        "- Rahmat Riansyah (41519010010)\n",
        "- Ari Satria Wiratama  (41519010122)\n",
        "- Abimanyu dwi satrio (41519010135)\n",
        "- Dan Eliezer Ryan Andani (41519010120)\n",
        "- Timotius Alvin (41519010003)"
      ]
    },
    {
      "cell_type": "code",
      "metadata": {
        "colab": {
          "base_uri": "https://localhost:8080/",
          "height": 203
        },
        "id": "3xIDcpnVhoBx",
        "outputId": "aec9ec3d-7ff8-40b9-9a15-cf3cb738cd2a"
      },
      "source": [
        "import pandas as pd\n",
        "import numpy as np\n",
        "import seaborn as sns\n",
        "import matplotlib.pyplot as plt\n",
        "\n",
        "#memasukan data\n",
        "datalatih = pd.read_excel(\"data_test.xlsx\") #emmanggil file data\n",
        "datalatih.head() #menampilkan data dari baris teratas"
      ],
      "execution_count": 11,
      "outputs": [
        {
          "output_type": "execute_result",
          "data": {
            "text/html": [
              "<div>\n",
              "<style scoped>\n",
              "    .dataframe tbody tr th:only-of-type {\n",
              "        vertical-align: middle;\n",
              "    }\n",
              "\n",
              "    .dataframe tbody tr th {\n",
              "        vertical-align: top;\n",
              "    }\n",
              "\n",
              "    .dataframe thead th {\n",
              "        text-align: right;\n",
              "    }\n",
              "</style>\n",
              "<table border=\"1\" class=\"dataframe\">\n",
              "  <thead>\n",
              "    <tr style=\"text-align: right;\">\n",
              "      <th></th>\n",
              "      <th>Warna</th>\n",
              "      <th>Tipe</th>\n",
              "      <th>Asal</th>\n",
              "      <th>Tercuri</th>\n",
              "    </tr>\n",
              "  </thead>\n",
              "  <tbody>\n",
              "    <tr>\n",
              "      <th>0</th>\n",
              "      <td>merah</td>\n",
              "      <td>Sport</td>\n",
              "      <td>Domestik</td>\n",
              "      <td>ya</td>\n",
              "    </tr>\n",
              "    <tr>\n",
              "      <th>1</th>\n",
              "      <td>merah</td>\n",
              "      <td>Sport</td>\n",
              "      <td>Domestik</td>\n",
              "      <td>tidak</td>\n",
              "    </tr>\n",
              "    <tr>\n",
              "      <th>2</th>\n",
              "      <td>merah</td>\n",
              "      <td>Sport</td>\n",
              "      <td>Domestik</td>\n",
              "      <td>ya</td>\n",
              "    </tr>\n",
              "    <tr>\n",
              "      <th>3</th>\n",
              "      <td>kuning</td>\n",
              "      <td>Sport</td>\n",
              "      <td>Domestik</td>\n",
              "      <td>tidak</td>\n",
              "    </tr>\n",
              "    <tr>\n",
              "      <th>4</th>\n",
              "      <td>kuning</td>\n",
              "      <td>Sport</td>\n",
              "      <td>Import</td>\n",
              "      <td>ya</td>\n",
              "    </tr>\n",
              "  </tbody>\n",
              "</table>\n",
              "</div>"
            ],
            "text/plain": [
              "    Warna   Tipe      Asal Tercuri\n",
              "0   merah  Sport  Domestik      ya\n",
              "1   merah  Sport  Domestik   tidak\n",
              "2   merah  Sport  Domestik      ya\n",
              "3  kuning  Sport  Domestik   tidak\n",
              "4  kuning  Sport    Import      ya"
            ]
          },
          "metadata": {
            "tags": []
          },
          "execution_count": 11
        }
      ]
    },
    {
      "cell_type": "code",
      "metadata": {
        "id": "iiKg_wfriGaO"
      },
      "source": [
        "#function untuk menyederhanakan data yang sama (alias data yang sejenis) pada column\n",
        "def cutting(data):\n",
        "    seen = set()\n",
        "    seen_add = seen.add\n",
        "    return [x for x in data if not (x in seen or seen_add(x))]"
      ],
      "execution_count": 12,
      "outputs": []
    },
    {
      "cell_type": "code",
      "metadata": {
        "colab": {
          "base_uri": "https://localhost:8080/"
        },
        "id": "TFaYPYfDjiEE",
        "outputId": "c2f68e1c-92e3-4102-e7a1-faf94dae0d36"
      },
      "source": [
        "# 1\n",
        "probColumnCount =  datalatih.groupby(datalatih.columns[-1])[datalatih.columns[-1]].count()\n",
        "print(probColumnCount)"
      ],
      "execution_count": 13,
      "outputs": [
        {
          "output_type": "stream",
          "text": [
            "Tercuri\n",
            "tidak    5\n",
            "ya       5\n",
            "Name: Tercuri, dtype: int64\n"
          ],
          "name": "stdout"
        }
      ]
    },
    {
      "cell_type": "code",
      "metadata": {
        "colab": {
          "base_uri": "https://localhost:8080/",
          "height": 296
        },
        "id": "XIrL7RIDegNS",
        "outputId": "69fef5e2-cfc6-4178-81c5-75710d4c2ac4"
      },
      "source": [
        "sns.countplot(x=\"Tercuri\",data=datalatih)"
      ],
      "execution_count": 14,
      "outputs": [
        {
          "output_type": "execute_result",
          "data": {
            "text/plain": [
              "<matplotlib.axes._subplots.AxesSubplot at 0x7f9244449090>"
            ]
          },
          "metadata": {
            "tags": []
          },
          "execution_count": 14
        },
        {
          "output_type": "display_data",
          "data": {
            "image/png": "[encoded data removed]",
            "text/plain": [
              "<Figure size 432x288 with 1 Axes>"
            ]
          },
          "metadata": {
            "tags": [],
            "needs_background": "light"
          }
        }
      ]
    },
    {
      "cell_type": "code",
      "metadata": {
        "id": "Qhn9SSmmio4b",
        "colab": {
          "base_uri": "https://localhost:8080/"
        },
        "outputId": "e122ec27-b818-4162-ca75-05140c5a793f"
      },
      "source": [
        "probCol = cutting(datalatih['Tercuri']) #menyederhanakan data pada column terakhir\n",
        "probCol"
      ],
      "execution_count": 15,
      "outputs": [
        {
          "output_type": "execute_result",
          "data": {
            "text/plain": [
              "['ya', 'tidak']"
            ]
          },
          "metadata": {
            "tags": []
          },
          "execution_count": 15
        }
      ]
    },
    {
      "cell_type": "code",
      "metadata": {
        "id": "Ja3JwqXjjNwm",
        "colab": {
          "base_uri": "https://localhost:8080/",
          "height": 110
        },
        "outputId": "8562fef5-aee6-40f4-eb43-a9345b25eaf4"
      },
      "source": [
        "lastColumn = datalatih.iloc[ :, -1:] #mengambil column terakhir untuk menentukan probabilitas\n",
        "\n",
        "p1 = probColumnCount[0]/lastColumn.count() #menghitung probabilitas ke 1 yaitu n/jumlah\n",
        "p2 = probColumnCount[1]/lastColumn.count() #menghitung probabilitas ke 2 yaitu n/jumlah\n",
        "\n",
        "probColsDf = pd.DataFrame({'name': probCol, 'value': [p1,p2]}) #memasukkan hasil penghitungan ke dataframe\n",
        "probColsDf"
      ],
      "execution_count": 16,
      "outputs": [
        {
          "output_type": "execute_result",
          "data": {
            "text/html": [
              "<div>\n",
              "<style scoped>\n",
              "    .dataframe tbody tr th:only-of-type {\n",
              "        vertical-align: middle;\n",
              "    }\n",
              "\n",
              "    .dataframe tbody tr th {\n",
              "        vertical-align: top;\n",
              "    }\n",
              "\n",
              "    .dataframe thead th {\n",
              "        text-align: right;\n",
              "    }\n",
              "</style>\n",
              "<table border=\"1\" class=\"dataframe\">\n",
              "  <thead>\n",
              "    <tr style=\"text-align: right;\">\n",
              "      <th></th>\n",
              "      <th>name</th>\n",
              "      <th>value</th>\n",
              "    </tr>\n",
              "  </thead>\n",
              "  <tbody>\n",
              "    <tr>\n",
              "      <th>0</th>\n",
              "      <td>ya</td>\n",
              "      <td>Tercuri    0.5\n",
              "dtype: float64</td>\n",
              "    </tr>\n",
              "    <tr>\n",
              "      <th>1</th>\n",
              "      <td>tidak</td>\n",
              "      <td>Tercuri    0.5\n",
              "dtype: float64</td>\n",
              "    </tr>\n",
              "  </tbody>\n",
              "</table>\n",
              "</div>"
            ],
            "text/plain": [
              "    name                          value\n",
              "0     ya  Tercuri    0.5\n",
              "dtype: float64\n",
              "1  tidak  Tercuri    0.5\n",
              "dtype: float64"
            ]
          },
          "metadata": {
            "tags": []
          },
          "execution_count": 16
        }
      ]
    },
    {
      "cell_type": "code",
      "metadata": {
        "id": "FVb4k9gKpy0t"
      },
      "source": [
        "# warnaCount = datalatih.groupby(datalatih.columns[1])[datalatih.columns[1]].count()\n",
        "# print(len))"
      ],
      "execution_count": 17,
      "outputs": []
    },
    {
      "cell_type": "code",
      "metadata": {
        "id": "6gotAN-ntiQH",
        "colab": {
          "base_uri": "https://localhost:8080/"
        },
        "outputId": "9595967c-220b-446d-eb3c-707c298f537e"
      },
      "source": [
        "#menghitung probabilitas pada setiap column selain column terakhir\n",
        "columnsData = [] #untuk menyimpan hasil penghitungan\n",
        "\n",
        "for x in range(len(datalatih.columns)-1) : #looping berdasarkan dari jumlah seluruh column dikurang 1\n",
        "  v = cutting(datalatih.iloc[:, x]) #menyederhanakan data column\n",
        "  tempData = [] #untuk menyimpan hasil penghitungan pada setiap column sementara waktu \n",
        "  get = datalatih.groupby(datalatih.columns[x])[datalatih.columns[x]].count() #menghitung jumlah data yang sama pada setiap column selain column terakhir\n",
        "  # print(get)\n",
        "  for z in range(len(get)) : #looping berdasarkan jumlah jenis data dari setiap column, misal column warna terdapat kurning dan merah. berarti terdapat 2 jenis data\n",
        "    tempData.append(get.iloc[z]) #menyimpan total jenis data yang sama dari setiap column, misal jenis warna merah terdapat 5 yang sama di column warna \n",
        " \n",
        "  columnsData.append(tempData) #menyimpan seluruh hasil penghitungan total jenis data\n",
        "  \n",
        "print(columnsData)"
      ],
      "execution_count": 18,
      "outputs": [
        {
          "output_type": "stream",
          "text": [
            "[[5, 5], [6, 4], [5, 5]]\n"
          ],
          "name": "stdout"
        }
      ]
    },
    {
      "cell_type": "code",
      "metadata": {
        "colab": {
          "base_uri": "https://localhost:8080/"
        },
        "id": "vVMvvn0Q4ubX",
        "outputId": "a981f808-d5c5-415e-e56c-de1deef73627"
      },
      "source": [
        "#function untuk menentukan hasil probabilitas dari pertanyaaan yang diajukan melalui arguments\n",
        "def Question(data) :\n",
        "  lastCol = cutting(datalatih.iloc[ :, -1]) #menyederhanakan data pada column terakhir\n",
        "  totalColumn = len(datalatih.columns)-1 #menhitung total column dikurang 1\n",
        "\n",
        "  prob1 = [] #menampung perhitungan probabilitas ke 1, P(X|Ci)\n",
        "  prob2 = [] #menampung perhitungan  probabilitas ke 2, P(X|Ci)\n",
        "\n",
        "  result1 = [] #menampung hasil persentase dari probabilitas ke 1\n",
        "  result2 = [] #menampung hasil persentase dari probabilitas ke 1\n",
        "  \n",
        "  print(\"-- probability 1 untuk kemungkinan \" + lastCol[0] + \"--\")\n",
        "  for x in range(len(data)) : #looping berdasarkan jumlah banyaknya data dari arguments yang dikirim \n",
        "    newData = len(datalatih[(datalatih.iloc[ :, x] == data[x]) & (datalatih.iloc[ :, -1] == lastCol[0])]) #menghitung probabilitas ke-1 dari pertanyaan yang diajukan, misal menghitung probabilitas ya tercuri pada mobil warna merah, tipe SUV, dan asal domestik\n",
        "    prob1.append(newData) #menyimpan hasil perhitungan probabilitas\n",
        "    print(\"result dari \" + data[x] + \" adalah \" + str(newData))\n",
        "\n",
        "  \n",
        "  for u in range(len(data)) : #looping berdasarkan jumlah banyaknya data dari arguments yang dikirim \n",
        "    result1.append(prob1[u] / probColumnCount[0]) #menyimpan hasil penghitungan P(X|Ci)\n",
        "  \n",
        "  result1 = probColsDf['value'][0] * np.prod(result1) #menentukan hasil akhir probabilitas ke-1\n",
        "  result1 = \"{:.0%}\".format(float(result1)) #mengubah hasil akhir menjadi persentase\n",
        "  print(\"kemungkinan  probability '\" + lastCol[0] + \"' adalah \" + str(result1))\n",
        "\n",
        "    \n",
        "\n",
        "  \n",
        "  print('\\n\\n')\n",
        "\n",
        "  print(\"-- probability 2 untuk kemungkinan \" + lastCol[1] + \"--\")\n",
        "  for x in range(len(data)) : #looping berdasarkan jumlah banyaknya data dari arguments yang dikirim \n",
        "    newData = len(datalatih[(datalatih.iloc[ :, x] == data[x]) & (datalatih.iloc[ :, -1] == lastCol[1])])  #menghitung probabilitas ke-1 dari pertanyaan yang diajukan, misal menghitung probabilitas tidak tercuri pada mobil warna merah, tipe SUV, dan asal domestik\n",
        "    prob2.append(newData) #menyimpan hasil perhitungan probabilitas\n",
        "    print(\"result dari \" + data[x] + \" adalah \" + str(newData))\n",
        "\n",
        "  for u in range(len(data)) : #looping berdasarkan jumlah banyaknya data dari arguments yang dikirim \n",
        "    result2.append(prob2[u] / probColumnCount[1]) #menyimpan hasil penghitungan P(X|Ci)\n",
        "  \n",
        "  result2 = probColsDf['value'][0] * np.prod(result2) #menentukan hasil akhir probabilitas ke-1\n",
        "  result2 = \"{:.0%}\".format(float(result2)) #mengubah hasil akhir menjadi persentase\n",
        "  print(\"kemungkinan  probability '\" + lastCol[1] + \"' adalah \" + str(result2))\n",
        "\n",
        "\n",
        "\n",
        "\n",
        "\n",
        "data = ['merah', 'Suv', 'Domestik'] #data untuk mengajukan pertanyaan\n",
        "Question(data) #mengajukan pertanyaaan probabilitas"
      ],
      "execution_count": 19,
      "outputs": [
        {
          "output_type": "stream",
          "text": [
            "-- probability 1 untuk kemungkinan ya--\n",
            "result dari merah adalah 3\n",
            "result dari Suv adalah 1\n",
            "result dari Domestik adalah 2\n",
            "kemungkinan  probability 'ya' adalah 2%\n",
            "\n",
            "\n",
            "\n",
            "-- probability 2 untuk kemungkinan tidak--\n",
            "result dari merah adalah 2\n",
            "result dari Suv adalah 3\n",
            "result dari Domestik adalah 3\n",
            "kemungkinan  probability 'tidak' adalah 7%\n"
          ],
          "name": "stdout"
        }
      ]
    }
  ]
}