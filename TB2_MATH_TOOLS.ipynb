{
  "nbformat": 4,
  "nbformat_minor": 0,
  "metadata": {
    "colab": {
      "name": "TB2 MATH TOOLS.ipynb",
      "provenance": [],
      "collapsed_sections": [],
      "authorship_tag": "ABX9TyMo9nmFWs0WwFfznFmi7uRT",
      "include_colab_link": true
    },
    "kernelspec": {
      "name": "python3",
      "display_name": "Python 3"
    },
    "language_info": {
      "name": "python"
    }
  },
  "cells": [
    {
      "cell_type": "markdown",
      "metadata": {
        "id": "view-in-github",
        "colab_type": "text"
      },
      "source": [
        "<a href=\"https://colab.research.google.com/github/rahmatrians/scratching-naive-bayes/blob/main/TB2_MATH_TOOLS.ipynb\" target=\"_parent\"><img src=\"https://colab.research.google.com/assets/colab-badge.svg\" alt=\"Open In Colab\"/></a>"
      ]
    },
    {
      "cell_type": "code",
      "metadata": {
        "colab": {
          "base_uri": "https://localhost:8080/",
          "height": 357
        },
        "id": "3xIDcpnVhoBx",
        "outputId": "a6b56f75-9748-4ab8-8d42-0aa51758f94c"
      },
      "source": [
        "import pandas as pd\n",
        "import numpy as np\n",
        "import matplotlib.pyplot as plt\n",
        "\n",
        "#memasukan data latih\n",
        "datalatih = pd.read_excel(\"data_test.xlsx\")\n",
        "datalatih.head(11)"
      ],
      "execution_count": null,
      "outputs": [
        {
          "output_type": "execute_result",
          "data": {
            "text/html": [
              "<div>\n",
              "<style scoped>\n",
              "    .dataframe tbody tr th:only-of-type {\n",
              "        vertical-align: middle;\n",
              "    }\n",
              "\n",
              "    .dataframe tbody tr th {\n",
              "        vertical-align: top;\n",
              "    }\n",
              "\n",
              "    .dataframe thead th {\n",
              "        text-align: right;\n",
              "    }\n",
              "</style>\n",
              "<table border=\"1\" class=\"dataframe\">\n",
              "  <thead>\n",
              "    <tr style=\"text-align: right;\">\n",
              "      <th></th>\n",
              "      <th>Warna</th>\n",
              "      <th>Tipe</th>\n",
              "      <th>Asal</th>\n",
              "      <th>Tercuri</th>\n",
              "    </tr>\n",
              "  </thead>\n",
              "  <tbody>\n",
              "    <tr>\n",
              "      <th>0</th>\n",
              "      <td>merah</td>\n",
              "      <td>Sport</td>\n",
              "      <td>Domestik</td>\n",
              "      <td>ya</td>\n",
              "    </tr>\n",
              "    <tr>\n",
              "      <th>1</th>\n",
              "      <td>merah</td>\n",
              "      <td>Sport</td>\n",
              "      <td>Domestik</td>\n",
              "      <td>tidak</td>\n",
              "    </tr>\n",
              "    <tr>\n",
              "      <th>2</th>\n",
              "      <td>merah</td>\n",
              "      <td>Sport</td>\n",
              "      <td>Domestik</td>\n",
              "      <td>ya</td>\n",
              "    </tr>\n",
              "    <tr>\n",
              "      <th>3</th>\n",
              "      <td>kuning</td>\n",
              "      <td>Sport</td>\n",
              "      <td>Domestik</td>\n",
              "      <td>tidak</td>\n",
              "    </tr>\n",
              "    <tr>\n",
              "      <th>4</th>\n",
              "      <td>kuning</td>\n",
              "      <td>Sport</td>\n",
              "      <td>Import</td>\n",
              "      <td>ya</td>\n",
              "    </tr>\n",
              "    <tr>\n",
              "      <th>5</th>\n",
              "      <td>kuning</td>\n",
              "      <td>Suv</td>\n",
              "      <td>Import</td>\n",
              "      <td>tidak</td>\n",
              "    </tr>\n",
              "    <tr>\n",
              "      <th>6</th>\n",
              "      <td>kuning</td>\n",
              "      <td>Suv</td>\n",
              "      <td>Import</td>\n",
              "      <td>ya</td>\n",
              "    </tr>\n",
              "    <tr>\n",
              "      <th>7</th>\n",
              "      <td>kuning</td>\n",
              "      <td>Suv</td>\n",
              "      <td>Domestik</td>\n",
              "      <td>tidak</td>\n",
              "    </tr>\n",
              "    <tr>\n",
              "      <th>8</th>\n",
              "      <td>merah</td>\n",
              "      <td>Suv</td>\n",
              "      <td>Import</td>\n",
              "      <td>tidak</td>\n",
              "    </tr>\n",
              "    <tr>\n",
              "      <th>9</th>\n",
              "      <td>merah</td>\n",
              "      <td>Sport</td>\n",
              "      <td>Import</td>\n",
              "      <td>ya</td>\n",
              "    </tr>\n",
              "  </tbody>\n",
              "</table>\n",
              "</div>"
            ],
            "text/plain": [
              "    Warna   Tipe      Asal Tercuri\n",
              "0   merah  Sport  Domestik      ya\n",
              "1   merah  Sport  Domestik   tidak\n",
              "2   merah  Sport  Domestik      ya\n",
              "3  kuning  Sport  Domestik   tidak\n",
              "4  kuning  Sport    Import      ya\n",
              "5  kuning    Suv    Import   tidak\n",
              "6  kuning    Suv    Import      ya\n",
              "7  kuning    Suv  Domestik   tidak\n",
              "8   merah    Suv    Import   tidak\n",
              "9   merah  Sport    Import      ya"
            ]
          },
          "metadata": {
            "tags": []
          },
          "execution_count": 44
        }
      ]
    },
    {
      "cell_type": "code",
      "metadata": {
        "id": "iiKg_wfriGaO"
      },
      "source": [
        "#cutting data by rows\n",
        "def cutting(data):\n",
        "    seen = set()\n",
        "    seen_add = seen.add\n",
        "    return [x for x in data if not (x in seen or seen_add(x))]"
      ],
      "execution_count": null,
      "outputs": []
    },
    {
      "cell_type": "code",
      "metadata": {
        "id": "CjiX9MTlojRH"
      },
      "source": [
        "lastColumn = datalatih.iloc[ :, -1:]"
      ],
      "execution_count": null,
      "outputs": []
    },
    {
      "cell_type": "code",
      "metadata": {
        "colab": {
          "base_uri": "https://localhost:8080/"
        },
        "id": "TFaYPYfDjiEE",
        "outputId": "427c49fe-459c-491a-bd9d-1a949658a7d8"
      },
      "source": [
        "# 1\n",
        "tercuriCount =  datalatih.groupby(datalatih.columns[-1])[datalatih.columns[-1]].count()\n",
        "print(tercuriCount)"
      ],
      "execution_count": null,
      "outputs": [
        {
          "output_type": "stream",
          "text": [
            "Tercuri\n",
            "tidak    5\n",
            "ya       5\n",
            "Name: Tercuri, dtype: int64\n"
          ],
          "name": "stdout"
        }
      ]
    },
    {
      "cell_type": "code",
      "metadata": {
        "id": "Qhn9SSmmio4b"
      },
      "source": [
        "tercuri = cutting(datalatih['Tercuri'])"
      ],
      "execution_count": null,
      "outputs": []
    },
    {
      "cell_type": "code",
      "metadata": {
        "id": "Ja3JwqXjjNwm"
      },
      "source": [
        "p1 = tercuriCount[0]/lastColumn.count()\n",
        "p2 = tercuriCount[0]/lastColumn.count()"
      ],
      "execution_count": null,
      "outputs": []
    },
    {
      "cell_type": "code",
      "metadata": {
        "colab": {
          "base_uri": "https://localhost:8080/",
          "height": 110
        },
        "id": "RGCd2thTtJHt",
        "outputId": "17dbdda6-7c8f-4bf0-e9e0-981cca84ac5f"
      },
      "source": [
        "tercuriDf = pd.DataFrame({'name': tercuri,\n",
        "           'value': [p1,p2]})\n",
        "\n",
        "tercuriDf"
      ],
      "execution_count": null,
      "outputs": [
        {
          "output_type": "execute_result",
          "data": {
            "text/html": [
              "<div>\n",
              "<style scoped>\n",
              "    .dataframe tbody tr th:only-of-type {\n",
              "        vertical-align: middle;\n",
              "    }\n",
              "\n",
              "    .dataframe tbody tr th {\n",
              "        vertical-align: top;\n",
              "    }\n",
              "\n",
              "    .dataframe thead th {\n",
              "        text-align: right;\n",
              "    }\n",
              "</style>\n",
              "<table border=\"1\" class=\"dataframe\">\n",
              "  <thead>\n",
              "    <tr style=\"text-align: right;\">\n",
              "      <th></th>\n",
              "      <th>name</th>\n",
              "      <th>value</th>\n",
              "    </tr>\n",
              "  </thead>\n",
              "  <tbody>\n",
              "    <tr>\n",
              "      <th>0</th>\n",
              "      <td>ya</td>\n",
              "      <td>Tercuri    0.5\n",
              "dtype: float64</td>\n",
              "    </tr>\n",
              "    <tr>\n",
              "      <th>1</th>\n",
              "      <td>tidak</td>\n",
              "      <td>Tercuri    0.5\n",
              "dtype: float64</td>\n",
              "    </tr>\n",
              "  </tbody>\n",
              "</table>\n",
              "</div>"
            ],
            "text/plain": [
              "    name                          value\n",
              "0     ya  Tercuri    0.5\n",
              "dtype: float64\n",
              "1  tidak  Tercuri    0.5\n",
              "dtype: float64"
            ]
          },
          "metadata": {
            "tags": []
          },
          "execution_count": 27
        }
      ]
    },
    {
      "cell_type": "code",
      "metadata": {
        "colab": {
          "base_uri": "https://localhost:8080/"
        },
        "id": "FVb4k9gKpy0t",
        "outputId": "269edbdd-e646-4129-ff41-ea0d361dad09"
      },
      "source": [
        "warnaCount = datalatih.groupby(datalatih.columns[1])[datalatih.columns[1]].count()\n",
        "print(warnaCount)"
      ],
      "execution_count": null,
      "outputs": [
        {
          "output_type": "stream",
          "text": [
            "Tipe\n",
            "Sport    6\n",
            "Suv      4\n",
            "Name: Tipe, dtype: int64\n"
          ],
          "name": "stdout"
        }
      ]
    },
    {
      "cell_type": "code",
      "metadata": {
        "id": "6gotAN-ntiQH"
      },
      "source": [
        "columnsData = []\n",
        "for x in len(datalatih.columns) :\n",
        "  columnsData.append()"
      ],
      "execution_count": null,
      "outputs": []
    },
    {
      "cell_type": "code",
      "metadata": {
        "colab": {
          "base_uri": "https://localhost:8080/"
        },
        "id": "j6RhiHi9moe2",
        "outputId": "2c13db43-5721-4520-fc27-b661047b47d0"
      },
      "source": [
        "# 2\n",
        "warnaCount = datalatih.groupby('Warna')['Warna'].count()\n",
        "print(warnaCount)\n",
        "\n",
        "print(\"\\n\")\n",
        "\n",
        "tipeCount =  datalatih.groupby('Tipe')['Tipe'].count()\n",
        "print(tipeCount)\n",
        "\n",
        "print(\"\\n\")\n",
        "\n",
        "asalCount =  datalatih.groupby('Asal')['Asal'].count()\n",
        "print(asalCount)"
      ],
      "execution_count": null,
      "outputs": [
        {
          "output_type": "stream",
          "text": [
            "Warna\n",
            "kuning    5\n",
            "merah     5\n",
            "Name: Warna, dtype: int64\n",
            "\n",
            "\n",
            "Tipe\n",
            "Sport    6\n",
            "Suv      4\n",
            "Name: Tipe, dtype: int64\n",
            "\n",
            "\n",
            "Asal\n",
            "Domestik    5\n",
            "Import      5\n",
            "Name: Asal, dtype: int64\n"
          ],
          "name": "stdout"
        }
      ]
    },
    {
      "cell_type": "code",
      "metadata": {
        "id": "LP-gfwmavayV"
      },
      "source": [
        "merah = len(datalatih[(datalatih['Warna'] == 'merah') & (datalatih['Tercuri'] == 'ya')])\n",
        "print(merah)\n",
        "\n",
        "print(\"\\n\")\n",
        "\n",
        "suv = len(datalatih[(datalatih['Tipe'] == 'Suv') & (datalatih['Tercuri'] == 'ya')])\n",
        "print(suv)\n",
        "\n",
        "print(\"\\n\")\n",
        "\n",
        "domestik = len(datalatih[(datalatih['Asal'] == 'Domestik') & (datalatih['Tercuri'] == 'ya')])\n",
        "\n",
        "print(domestik)"
      ],
      "execution_count": null,
      "outputs": []
    },
    {
      "cell_type": "code",
      "metadata": {
        "id": "wqS077rm0AQp"
      },
      "source": [
        "ya1 = merah/tercuriCount[1]\n",
        "ya2 = suv/tercuriCount[1]\n",
        "ya3 = domestik/tercuriCount[1]\n",
        "\n",
        "resultYa = tercuriDf['value'][0] * ya1 * ya2 * ya3\n",
        "print(resultYa)"
      ],
      "execution_count": null,
      "outputs": []
    },
    {
      "cell_type": "code",
      "metadata": {
        "id": "ALRs5U4924_o"
      },
      "source": [
        "merah = len(datalatih[(datalatih['Warna'] == 'merah') & (datalatih['Tercuri'] == 'tidak')])\n",
        "print(merah)\n",
        "\n",
        "print(\"\\n\")\n",
        "\n",
        "suv = len(datalatih[(datalatih['Tipe'] == 'Suv') & (datalatih['Tercuri'] == 'tidak')])\n",
        "print(suv)\n",
        "\n",
        "print(\"\\n\")\n",
        "\n",
        "domestik = len(datalatih[(datalatih['Asal'] == 'Domestik') & (datalatih['Tercuri'] == 'tidak')])\n",
        "\n",
        "print(domestik)"
      ],
      "execution_count": null,
      "outputs": []
    },
    {
      "cell_type": "code",
      "metadata": {
        "id": "vra4YX9I3Hg5"
      },
      "source": [
        "no1 = merah/tercuriCount[1]\n",
        "no2 = suv/tercuriCount[1]\n",
        "no3 = domestik/tercuriCount[1]\n",
        "\n",
        "resultNo = tercuriDf['value'][1] * no1 * no2 * no3\n",
        "print(resultNo)"
      ],
      "execution_count": null,
      "outputs": []
    }
  ]
}